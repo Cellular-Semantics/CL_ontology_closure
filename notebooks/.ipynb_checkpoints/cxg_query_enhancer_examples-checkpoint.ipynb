{
 "cells": [
  {
   "cell_type": "markdown",
   "id": "943e6d27-af5a-40d3-ba10-c936f92baf6d",
   "metadata": {},
   "source": [
    "# Enhanced Querying of the CELLxGENE Census with cxg-query-enhancer"
   ]
  },
  {
   "cell_type": "markdown",
   "id": "1e76f640-11ac-4710-b1aa-1c4ca264b6ef",
   "metadata": {},
   "source": [
    "## What is cxg-query-enhancer?\n",
    "The `cxg-query-enhancer` library automatically expands CELLxGENE Census queries by including relevant subclasses and part-of relationships. Instead of manually specifying every cell type or tissue subclass, you can query at a high level and let the library handle the expansion.\n",
    "\n",
    "**Key Benefits:**\n",
    "* **Comprehensive results**: Automatically includes all relevant subtypes\n",
    "* **Simplified queries**: Write queries using broad terms like \"B cell\" or \"lung\"\n",
    "* **Consistent results**: Reduces the risk of missing relevant cell populations\n",
    "* **Time-saving**: No need to manually research and list all subclasses\n",
    "\n",
    "This notebook introduces and demonstrates examples of how to use the `enhance()` function from the library `cxg-query-enhancer` to enhance CELLxGENE Census queries by automatically expanding filters to include relevant subclasses and part-of relationships across annotations such as cell types, tissues, development stages, and diseases."
   ]
  },
  {
   "cell_type": "code",
   "execution_count": 2,
   "id": "c17cd386-35cf-45a8-9955-f2335f8aff0a",
   "metadata": {},
   "outputs": [],
   "source": [
    "import cellxgene_census  \n",
    "from cxg_query_enhancer import enhance              #import the function `enhance()` from the library `cxg-query-enhancer`"
   ]
  },
  {
   "cell_type": "markdown",
   "id": "987645a4-fa31-4ff2-afa6-b79bc0aa4a61",
   "metadata": {},
   "source": [
    "## Obtaining a slice as AnnData using the library **cxg-query-enhancer**:"
   ]
  },
  {
   "cell_type": "code",
   "execution_count": 12,
   "id": "bdb9c61f-9aee-4c12-9fae-cd1843aba646",
   "metadata": {},
   "outputs": [],
   "source": [
    "# Open the latest version of the CELLxGENE Census\n",
    "with cellxgene_census.open_soma(census_version=\"latest\") as census:\n",
    "    \n",
    "    # Retrieve an AnnData object based on specific filters\n",
    "    adata = cellxgene_census.get_anndata(\n",
    "        census=census,\n",
    "        organism=\"Homo sapiens\",\n",
    "        var_value_filter=\"feature_id in ['ENSG00000161798', 'ENSG00000188229']\",\n",
    "        obs_value_filter=enhance(             #enhance function to expand the query     \n",
    "            \"sex == 'female' and cell_type in ['medium spiny neuron']\",\n",
    "            organism=\"Homo sapiens\",\n",
    "        ),\n",
    "        obs_column_names=[\n",
    "                \"assay\",\n",
    "                \"cell_type\",\n",
    "                \"tissue\",\n",
    "                \"tissue_general\",\n",
    "                \"suspension_type\",\n",
    "                \"disease\",\n",
    "            ],\n",
    "    )"
   ]
  },
  {
   "cell_type": "markdown",
   "id": "d3c30e28-a256-4c06-8d7b-8a750d9a63ba",
   "metadata": {},
   "source": [
    "The output (with `enhance()` function) covers about 5K cells and 2 genes of the medium spiny neuron and subclasses."
   ]
  },
  {
   "cell_type": "code",
   "execution_count": 13,
   "id": "0a28c070-df19-4d63-9b97-8d66f4fea9ca",
   "metadata": {},
   "outputs": [
    {
     "data": {
      "text/plain": [
       "AnnData object with n_obs × n_vars = 5471 × 2\n",
       "    obs: 'assay', 'cell_type', 'tissue', 'tissue_general', 'suspension_type', 'disease', 'sex'\n",
       "    var: 'soma_joinid', 'feature_id', 'feature_name', 'feature_type', 'feature_length', 'nnz', 'n_measured_obs'"
      ]
     },
     "execution_count": 13,
     "metadata": {},
     "output_type": "execute_result"
    }
   ],
   "source": [
    "adata"
   ]
  },
  {
   "cell_type": "markdown",
   "id": "91af62de-728d-4d85-b663-e8e02bf3a4ad",
   "metadata": {},
   "source": [
    "With `enhance()` function, the `cell_type` column now includes not only 'medium spiny neuron' but also its subclasses, such as 'indirect pathway medium spiny neuron' and 'direct pathway medium spiny neuron'."
   ]
  },
  {
   "cell_type": "code",
   "execution_count": 14,
   "id": "fa2d9cd1-a13d-407e-93b8-b998b1e6b596",
   "metadata": {},
   "outputs": [
    {
     "data": {
      "text/html": [
       "<div>\n",
       "<style scoped>\n",
       "    .dataframe tbody tr th:only-of-type {\n",
       "        vertical-align: middle;\n",
       "    }\n",
       "\n",
       "    .dataframe tbody tr th {\n",
       "        vertical-align: top;\n",
       "    }\n",
       "\n",
       "    .dataframe thead th {\n",
       "        text-align: right;\n",
       "    }\n",
       "</style>\n",
       "<table border=\"1\" class=\"dataframe\">\n",
       "  <thead>\n",
       "    <tr style=\"text-align: right;\">\n",
       "      <th></th>\n",
       "      <th>assay</th>\n",
       "      <th>cell_type</th>\n",
       "      <th>tissue</th>\n",
       "      <th>tissue_general</th>\n",
       "      <th>suspension_type</th>\n",
       "      <th>disease</th>\n",
       "      <th>sex</th>\n",
       "    </tr>\n",
       "  </thead>\n",
       "  <tbody>\n",
       "    <tr>\n",
       "      <th>0</th>\n",
       "      <td>10x 3' v3</td>\n",
       "      <td>indirect pathway medium spiny neuron</td>\n",
       "      <td>caudate nucleus</td>\n",
       "      <td>brain</td>\n",
       "      <td>nucleus</td>\n",
       "      <td>normal</td>\n",
       "      <td>female</td>\n",
       "    </tr>\n",
       "    <tr>\n",
       "      <th>1</th>\n",
       "      <td>10x 3' v3</td>\n",
       "      <td>direct pathway medium spiny neuron</td>\n",
       "      <td>caudate nucleus</td>\n",
       "      <td>brain</td>\n",
       "      <td>nucleus</td>\n",
       "      <td>normal</td>\n",
       "      <td>female</td>\n",
       "    </tr>\n",
       "    <tr>\n",
       "      <th>2</th>\n",
       "      <td>10x 3' v3</td>\n",
       "      <td>indirect pathway medium spiny neuron</td>\n",
       "      <td>caudate nucleus</td>\n",
       "      <td>brain</td>\n",
       "      <td>nucleus</td>\n",
       "      <td>normal</td>\n",
       "      <td>female</td>\n",
       "    </tr>\n",
       "    <tr>\n",
       "      <th>3</th>\n",
       "      <td>10x 3' v3</td>\n",
       "      <td>indirect pathway medium spiny neuron</td>\n",
       "      <td>caudate nucleus</td>\n",
       "      <td>brain</td>\n",
       "      <td>nucleus</td>\n",
       "      <td>normal</td>\n",
       "      <td>female</td>\n",
       "    </tr>\n",
       "    <tr>\n",
       "      <th>4</th>\n",
       "      <td>10x 3' v3</td>\n",
       "      <td>direct pathway medium spiny neuron</td>\n",
       "      <td>caudate nucleus</td>\n",
       "      <td>brain</td>\n",
       "      <td>nucleus</td>\n",
       "      <td>normal</td>\n",
       "      <td>female</td>\n",
       "    </tr>\n",
       "    <tr>\n",
       "      <th>...</th>\n",
       "      <td>...</td>\n",
       "      <td>...</td>\n",
       "      <td>...</td>\n",
       "      <td>...</td>\n",
       "      <td>...</td>\n",
       "      <td>...</td>\n",
       "      <td>...</td>\n",
       "    </tr>\n",
       "    <tr>\n",
       "      <th>5466</th>\n",
       "      <td>10x 3' v3</td>\n",
       "      <td>medium spiny neuron</td>\n",
       "      <td>cerebral cortex</td>\n",
       "      <td>brain</td>\n",
       "      <td>cell</td>\n",
       "      <td>normal</td>\n",
       "      <td>female</td>\n",
       "    </tr>\n",
       "    <tr>\n",
       "      <th>5467</th>\n",
       "      <td>10x 3' v3</td>\n",
       "      <td>medium spiny neuron</td>\n",
       "      <td>cerebral cortex</td>\n",
       "      <td>brain</td>\n",
       "      <td>cell</td>\n",
       "      <td>normal</td>\n",
       "      <td>female</td>\n",
       "    </tr>\n",
       "    <tr>\n",
       "      <th>5468</th>\n",
       "      <td>10x 3' v3</td>\n",
       "      <td>medium spiny neuron</td>\n",
       "      <td>cerebral cortex</td>\n",
       "      <td>brain</td>\n",
       "      <td>cell</td>\n",
       "      <td>normal</td>\n",
       "      <td>female</td>\n",
       "    </tr>\n",
       "    <tr>\n",
       "      <th>5469</th>\n",
       "      <td>10x 3' v3</td>\n",
       "      <td>medium spiny neuron</td>\n",
       "      <td>cerebral cortex</td>\n",
       "      <td>brain</td>\n",
       "      <td>cell</td>\n",
       "      <td>normal</td>\n",
       "      <td>female</td>\n",
       "    </tr>\n",
       "    <tr>\n",
       "      <th>5470</th>\n",
       "      <td>10x 3' v3</td>\n",
       "      <td>medium spiny neuron</td>\n",
       "      <td>cerebral cortex</td>\n",
       "      <td>brain</td>\n",
       "      <td>cell</td>\n",
       "      <td>normal</td>\n",
       "      <td>female</td>\n",
       "    </tr>\n",
       "  </tbody>\n",
       "</table>\n",
       "<p>5471 rows × 7 columns</p>\n",
       "</div>"
      ],
      "text/plain": [
       "          assay                             cell_type           tissue  \\\n",
       "0     10x 3' v3  indirect pathway medium spiny neuron  caudate nucleus   \n",
       "1     10x 3' v3    direct pathway medium spiny neuron  caudate nucleus   \n",
       "2     10x 3' v3  indirect pathway medium spiny neuron  caudate nucleus   \n",
       "3     10x 3' v3  indirect pathway medium spiny neuron  caudate nucleus   \n",
       "4     10x 3' v3    direct pathway medium spiny neuron  caudate nucleus   \n",
       "...         ...                                   ...              ...   \n",
       "5466  10x 3' v3                   medium spiny neuron  cerebral cortex   \n",
       "5467  10x 3' v3                   medium spiny neuron  cerebral cortex   \n",
       "5468  10x 3' v3                   medium spiny neuron  cerebral cortex   \n",
       "5469  10x 3' v3                   medium spiny neuron  cerebral cortex   \n",
       "5470  10x 3' v3                   medium spiny neuron  cerebral cortex   \n",
       "\n",
       "     tissue_general suspension_type disease     sex  \n",
       "0             brain         nucleus  normal  female  \n",
       "1             brain         nucleus  normal  female  \n",
       "2             brain         nucleus  normal  female  \n",
       "3             brain         nucleus  normal  female  \n",
       "4             brain         nucleus  normal  female  \n",
       "...             ...             ...     ...     ...  \n",
       "5466          brain            cell  normal  female  \n",
       "5467          brain            cell  normal  female  \n",
       "5468          brain            cell  normal  female  \n",
       "5469          brain            cell  normal  female  \n",
       "5470          brain            cell  normal  female  \n",
       "\n",
       "[5471 rows x 7 columns]"
      ]
     },
     "execution_count": 14,
     "metadata": {},
     "output_type": "execute_result"
    }
   ],
   "source": [
    "adata.obs"
   ]
  },
  {
   "cell_type": "markdown",
   "id": "a4fa6c3d-f357-4c46-b953-e861da8108e1",
   "metadata": {},
   "source": [
    "## Obtaining a slice as AnnData with multiple categories (cell_type, tissue, and disease) using the library `cxg-query-enhancer`:"
   ]
  },
  {
   "cell_type": "code",
   "execution_count": 33,
   "id": "1902f53d-9da2-4476-a49c-1555c82776c1",
   "metadata": {},
   "outputs": [],
   "source": [
    "with cellxgene_census.open_soma(census_version=\"latest\") as census:\n",
    "    adata = cellxgene_census.get_anndata(\n",
    "        census=census,\n",
    "        organism=\"Homo sapiens\",\n",
    "        var_value_filter=\"feature_id in ['ENSG00000161798', 'ENSG00000188229']\",\n",
    "        obs_value_filter= enhance(\"cell_type in ['B cell'] and tissue in ['lung'] and disease in ['COVID-19'] and is_primary_data == True\",\n",
    "                                  organism=\"Homo sapiens\"\n",
    "                                 ),\n",
    "        obs_column_names=[\"sex\"],\n",
    "    )"
   ]
  },
  {
   "cell_type": "markdown",
   "id": "d57ea77e-2305-4871-9c3a-5fe8c83eed13",
   "metadata": {},
   "source": [
    "This example further demonstrates `enhance()` by applying it to a query involving multiple categories: `cell_type`, `tissue`, and `disease`. "
   ]
  },
  {
   "cell_type": "markdown",
   "id": "287676ef-16a1-4e49-9dd3-cd4d6027f81c",
   "metadata": {},
   "source": [
    "The output with about 7K cells and 2 genes, with expanded categories. "
   ]
  },
  {
   "cell_type": "code",
   "execution_count": 34,
   "id": "6563e398-87ad-433f-8dba-b3c48eaf6db8",
   "metadata": {},
   "outputs": [
    {
     "data": {
      "text/plain": [
       "AnnData object with n_obs × n_vars = 7202 × 2\n",
       "    obs: 'sex', 'cell_type', 'tissue', 'disease', 'is_primary_data'\n",
       "    var: 'soma_joinid', 'feature_id', 'feature_name', 'feature_type', 'feature_length', 'nnz', 'n_measured_obs'"
      ]
     },
     "execution_count": 34,
     "metadata": {},
     "output_type": "execute_result"
    }
   ],
   "source": [
    "adata"
   ]
  },
  {
   "cell_type": "code",
   "execution_count": 35,
   "id": "848f37fd-d25e-4780-9c72-a7df51c73919",
   "metadata": {},
   "outputs": [
    {
     "data": {
      "text/html": [
       "<div>\n",
       "<style scoped>\n",
       "    .dataframe tbody tr th:only-of-type {\n",
       "        vertical-align: middle;\n",
       "    }\n",
       "\n",
       "    .dataframe tbody tr th {\n",
       "        vertical-align: top;\n",
       "    }\n",
       "\n",
       "    .dataframe thead th {\n",
       "        text-align: right;\n",
       "    }\n",
       "</style>\n",
       "<table border=\"1\" class=\"dataframe\">\n",
       "  <thead>\n",
       "    <tr style=\"text-align: right;\">\n",
       "      <th></th>\n",
       "      <th>sex</th>\n",
       "      <th>cell_type</th>\n",
       "      <th>tissue</th>\n",
       "      <th>disease</th>\n",
       "      <th>is_primary_data</th>\n",
       "    </tr>\n",
       "  </thead>\n",
       "  <tbody>\n",
       "    <tr>\n",
       "      <th>0</th>\n",
       "      <td>male</td>\n",
       "      <td>B cell</td>\n",
       "      <td>lung</td>\n",
       "      <td>COVID-19</td>\n",
       "      <td>True</td>\n",
       "    </tr>\n",
       "    <tr>\n",
       "      <th>1</th>\n",
       "      <td>male</td>\n",
       "      <td>B cell</td>\n",
       "      <td>lung</td>\n",
       "      <td>COVID-19</td>\n",
       "      <td>True</td>\n",
       "    </tr>\n",
       "    <tr>\n",
       "      <th>2</th>\n",
       "      <td>male</td>\n",
       "      <td>B cell</td>\n",
       "      <td>lung</td>\n",
       "      <td>COVID-19</td>\n",
       "      <td>True</td>\n",
       "    </tr>\n",
       "    <tr>\n",
       "      <th>3</th>\n",
       "      <td>male</td>\n",
       "      <td>B cell</td>\n",
       "      <td>lung</td>\n",
       "      <td>COVID-19</td>\n",
       "      <td>True</td>\n",
       "    </tr>\n",
       "    <tr>\n",
       "      <th>4</th>\n",
       "      <td>male</td>\n",
       "      <td>B cell</td>\n",
       "      <td>lung</td>\n",
       "      <td>COVID-19</td>\n",
       "      <td>True</td>\n",
       "    </tr>\n",
       "    <tr>\n",
       "      <th>...</th>\n",
       "      <td>...</td>\n",
       "      <td>...</td>\n",
       "      <td>...</td>\n",
       "      <td>...</td>\n",
       "      <td>...</td>\n",
       "    </tr>\n",
       "    <tr>\n",
       "      <th>7197</th>\n",
       "      <td>unknown</td>\n",
       "      <td>B cell</td>\n",
       "      <td>lung</td>\n",
       "      <td>COVID-19</td>\n",
       "      <td>True</td>\n",
       "    </tr>\n",
       "    <tr>\n",
       "      <th>7198</th>\n",
       "      <td>unknown</td>\n",
       "      <td>B cell</td>\n",
       "      <td>lung</td>\n",
       "      <td>COVID-19</td>\n",
       "      <td>True</td>\n",
       "    </tr>\n",
       "    <tr>\n",
       "      <th>7199</th>\n",
       "      <td>unknown</td>\n",
       "      <td>B cell</td>\n",
       "      <td>lung</td>\n",
       "      <td>COVID-19</td>\n",
       "      <td>True</td>\n",
       "    </tr>\n",
       "    <tr>\n",
       "      <th>7200</th>\n",
       "      <td>male</td>\n",
       "      <td>B cell</td>\n",
       "      <td>lung</td>\n",
       "      <td>COVID-19</td>\n",
       "      <td>True</td>\n",
       "    </tr>\n",
       "    <tr>\n",
       "      <th>7201</th>\n",
       "      <td>unknown</td>\n",
       "      <td>B cell</td>\n",
       "      <td>lung</td>\n",
       "      <td>COVID-19</td>\n",
       "      <td>True</td>\n",
       "    </tr>\n",
       "  </tbody>\n",
       "</table>\n",
       "<p>7202 rows × 5 columns</p>\n",
       "</div>"
      ],
      "text/plain": [
       "          sex cell_type tissue   disease  is_primary_data\n",
       "0        male    B cell   lung  COVID-19             True\n",
       "1        male    B cell   lung  COVID-19             True\n",
       "2        male    B cell   lung  COVID-19             True\n",
       "3        male    B cell   lung  COVID-19             True\n",
       "4        male    B cell   lung  COVID-19             True\n",
       "...       ...       ...    ...       ...              ...\n",
       "7197  unknown    B cell   lung  COVID-19             True\n",
       "7198  unknown    B cell   lung  COVID-19             True\n",
       "7199  unknown    B cell   lung  COVID-19             True\n",
       "7200     male    B cell   lung  COVID-19             True\n",
       "7201  unknown    B cell   lung  COVID-19             True\n",
       "\n",
       "[7202 rows x 5 columns]"
      ]
     },
     "execution_count": 35,
     "metadata": {},
     "output_type": "execute_result"
    }
   ],
   "source": [
    "adata.obs"
   ]
  },
  {
   "cell_type": "markdown",
   "id": "c8cec41f-6374-4964-8648-984ddb477e01",
   "metadata": {},
   "source": [
    "`enhance()` automatically expanded the `tissue` filter to include subclasses like 'upper lobe of left lung' and 'lower lobe of left lung'. The `cell_type` and `disease` terms remained as specified, indicating no further relevant subclasses were present in this specific dataset for those categories."
   ]
  },
  {
   "cell_type": "code",
   "execution_count": 36,
   "id": "b198fc10-4957-4999-949c-2938b697fe84",
   "metadata": {},
   "outputs": [
    {
     "name": "stdout",
     "output_type": "stream",
     "text": [
      "Unique values in 'sex': ['male', 'female', 'unknown']\n",
      "Categories (3, object): ['female', 'male', 'unknown']\n",
      "Unique values in 'cell_type': ['B cell']\n",
      "Categories (831, object): ['A2 amacrine cell', 'B cell', 'B-1 B cell', 'B-1a B cell', ..., 'vein endothelial cell of respiratory system', 'ventricular cardiac muscle cell', 'vestibular dark cell', 'visceromotor neuron']\n",
      "Unique values in 'tissue': ['lung', 'upper lobe of left lung', 'lower lobe of left lung']\n",
      "Categories (377, object): ['Brodmann (1909) area 17', 'Brodmann (1909) area 4', 'Brodmann (1909) area 7', 'Brodmann (1909) area 9', ..., 'white matter of parietal lobe', 'white matter of temporal lobe', 'yolk sac', 'zone of skin']\n",
      "Unique values in 'disease': ['COVID-19']\n",
      "Categories (144, object): ['Alzheimer disease', 'B-cell acute lymphoblastic leukemia', 'B-cell non-Hodgkin lymphoma', 'Barrett esophagus', ..., 'tubulovillous adenoma', 'type 1 diabetes mellitus', 'type 2 diabetes mellitus', 'uveal melanoma']\n",
      "Unique values in 'is_primary_data': [ True]\n"
     ]
    }
   ],
   "source": [
    "for col in adata.obs.columns:\n",
    "    print(f\"Unique values in '{col}':\", adata.obs[col].unique())"
   ]
  },
  {
   "cell_type": "markdown",
   "id": "7750645b-ec9b-44a3-a268-5313e0b51404",
   "metadata": {},
   "source": [
    "## Querying cell metadata (obs) without the library `cxg-query-enhancer`:"
   ]
  },
  {
   "cell_type": "code",
   "execution_count": 3,
   "id": "12d6fe74-d485-493a-9ac2-a415d624c767",
   "metadata": {},
   "outputs": [],
   "source": [
    "with cellxgene_census.open_soma(census_version=\"latest\") as census:\n",
    "\n",
    "    cell_metadata_b_cell = cellxgene_census.get_obs(\n",
    "        census,\n",
    "        \"homo_sapiens\",\n",
    "        value_filter=\"cell_type in ['B cell'] and tissue in ['lung'] and is_primary_data==True\",    # B cells in the lung without enhancement \n",
    "        column_names=[\"disease\"],\n",
    "    )\n",
    "    \n",
    "    cell_metadata_b_cell.value_counts()"
   ]
  },
  {
   "cell_type": "markdown",
   "id": "71767846-2448-4d90-a0c9-0fcacd712601",
   "metadata": {},
   "source": [
    "The output (without `enhance` function) covers around 70K B cells in the lung."
   ]
  },
  {
   "cell_type": "code",
   "execution_count": 4,
   "id": "fc53873f-8b2e-42c2-bc99-611e407ddb54",
   "metadata": {},
   "outputs": [
    {
     "name": "stdout",
     "output_type": "stream",
     "text": [
      "           disease cell_type tissue  is_primary_data\n",
      "0      anencephaly    B cell   lung             True\n",
      "1      anencephaly    B cell   lung             True\n",
      "2      anencephaly    B cell   lung             True\n",
      "3      anencephaly    B cell   lung             True\n",
      "4      anencephaly    B cell   lung             True\n",
      "...            ...       ...    ...              ...\n",
      "72820       normal    B cell   lung             True\n",
      "72821       normal    B cell   lung             True\n",
      "72822       normal    B cell   lung             True\n",
      "72823       normal    B cell   lung             True\n",
      "72824       normal    B cell   lung             True\n",
      "\n",
      "[72825 rows x 4 columns]\n"
     ]
    }
   ],
   "source": [
    "print(cell_metadata_b_cell)"
   ]
  },
  {
   "cell_type": "markdown",
   "id": "abd2ce65-0b5d-4d20-b968-9a26ce738b05",
   "metadata": {},
   "source": [
    "Only B cell and lung tissue was included in the obs query."
   ]
  },
  {
   "cell_type": "code",
   "execution_count": 5,
   "id": "3e4fd8ac-a35c-4182-9cd9-403398f21aed",
   "metadata": {},
   "outputs": [
    {
     "name": "stdout",
     "output_type": "stream",
     "text": [
      "Unique cell types (1): ['B cell']\n",
      "Categories (831, object): ['A2 amacrine cell', 'B cell', 'B-1 B cell', 'B-1a B cell', ..., 'vein endothelial cell of respiratory system', 'ventricular cardiac muscle cell', 'vestibular dark cell', 'visceromotor neuron']\n"
     ]
    }
   ],
   "source": [
    "# Number and list of unique cell types in cell_metadata_b_cell\n",
    "print(f\"Unique cell types ({len(cell_metadata_b_cell['cell_type'].unique())}):\", cell_metadata_b_cell[\"cell_type\"].unique())"
   ]
  },
  {
   "cell_type": "code",
   "execution_count": 6,
   "id": "4efa6edc-e432-4bcb-a03e-fe459da98ec3",
   "metadata": {},
   "outputs": [
    {
     "name": "stdout",
     "output_type": "stream",
     "text": [
      "Unique tissues (1): ['lung']\n",
      "Categories (377, object): ['Brodmann (1909) area 17', 'Brodmann (1909) area 4', 'Brodmann (1909) area 7', 'Brodmann (1909) area 9', ..., 'white matter of parietal lobe', 'white matter of temporal lobe', 'yolk sac', 'zone of skin']\n"
     ]
    }
   ],
   "source": [
    "print(f\"Unique tissues ({len(cell_metadata_b_cell['tissue'].unique())}):\", cell_metadata_b_cell[\"tissue\"].unique())"
   ]
  },
  {
   "cell_type": "markdown",
   "id": "3e62226f-907e-4036-92f3-8831a45924fd",
   "metadata": {},
   "source": [
    "## Querying cell metadata (obs) with the library `cxg-query-enhancer`:"
   ]
  },
  {
   "cell_type": "code",
   "execution_count": 38,
   "id": "f2dcaffc-08b4-43a6-a92c-1eb9d3589d95",
   "metadata": {},
   "outputs": [],
   "source": [
    "with cellxgene_census.open_soma(census_version=\"latest\") as census:\n",
    "\n",
    "    cell_metadata_b_cell = cellxgene_census.get_obs(\n",
    "        census,\n",
    "        \"homo_sapiens\",\n",
    "        value_filter= enhance(\n",
    "            \"cell_type in ['B cell'] and tissue in ['lung'] and is_primary_data==True\",\n",
    "            organism=\"Homo sapiens\"\n",
    "        ),\n",
    "        column_names=[\"disease\"],\n",
    "    )\n",
    "    \n",
    "    cell_metadata_b_cell.value_counts()"
   ]
  },
  {
   "cell_type": "markdown",
   "id": "93db3cf7-3fdb-472f-ad82-78b2084ba4f5",
   "metadata": {},
   "source": [
    "The output for querying B cells in the lung is around 100k with the `enhance` function, including the subclasses of both cell_type and tissue categories in the obs query."
   ]
  },
  {
   "cell_type": "code",
   "execution_count": 39,
   "id": "ff72d863-5d68-4d05-bb30-4e9a2c7df8de",
   "metadata": {},
   "outputs": [
    {
     "name": "stdout",
     "output_type": "stream",
     "text": [
      "            disease cell_type tissue  is_primary_data\n",
      "0       anencephaly    B cell   lung             True\n",
      "1       anencephaly    B cell   lung             True\n",
      "2       anencephaly    B cell   lung             True\n",
      "3       anencephaly    B cell   lung             True\n",
      "4       anencephaly    B cell   lung             True\n",
      "...             ...       ...    ...              ...\n",
      "106800       normal    B cell   lung             True\n",
      "106801       normal    B cell   lung             True\n",
      "106802       normal    B cell   lung             True\n",
      "106803       normal    B cell   lung             True\n",
      "106804       normal    B cell   lung             True\n",
      "\n",
      "[106805 rows x 4 columns]\n"
     ]
    }
   ],
   "source": [
    "print(cell_metadata_b_cell)"
   ]
  },
  {
   "cell_type": "markdown",
   "id": "9984e80f-7110-43e7-9b2f-4de67df35d94",
   "metadata": {},
   "source": [
    "B cells in the lung (and their subclasses) are included in the obs query with `enhance` function. The obs query includes 15 cell types and 12 tissues."
   ]
  },
  {
   "cell_type": "code",
   "execution_count": 45,
   "id": "978e6866-4ec7-4ed1-be4e-adc9a13a96d4",
   "metadata": {},
   "outputs": [
    {
     "name": "stdout",
     "output_type": "stream",
     "text": [
      "Unique cell types (15): ['B cell', 'small pre-B-II cell', 'large pre-B-II cell', 'B-1b B cell', 'immature B cell', ..., 'naive B cell', 'plasmablast', 'germinal center B cell', 'mature B cell', 'CD22-positive, CD38-low small pre-B cell']\n",
      "Length: 15\n",
      "Categories (831, object): ['A2 amacrine cell', 'B cell', 'B-1 B cell', 'B-1a B cell', ..., 'vein endothelial cell of respiratory system', 'ventricular cardiac muscle cell', 'vestibular dark cell', 'visceromotor neuron']\n"
     ]
    }
   ],
   "source": [
    "# Number and list of unique cell types in cell_metadata_b_cell\n",
    "print(f\"Unique cell types ({len(cell_metadata_b_cell['cell_type'].unique())}):\", cell_metadata_b_cell[\"cell_type\"].unique())"
   ]
  },
  {
   "cell_type": "code",
   "execution_count": 46,
   "id": "715443b0-ad95-4c05-b53f-d55fb9511509",
   "metadata": {},
   "outputs": [
    {
     "name": "stdout",
     "output_type": "stream",
     "text": [
      "Unique tissues (12): ['lung', 'alveolus of lung', 'lung parenchyma', 'lower lobe of left lung', 'lower lobe of right lung', ..., 'upper lobe of left lung', 'left lung', 'middle lobe of right lung', 'lingula of left lung', 'segmental bronchus']\n",
      "Length: 12\n",
      "Categories (377, object): ['Brodmann (1909) area 17', 'Brodmann (1909) area 4', 'Brodmann (1909) area 7', 'Brodmann (1909) area 9', ..., 'white matter of parietal lobe', 'white matter of temporal lobe', 'yolk sac', 'zone of skin']\n"
     ]
    }
   ],
   "source": [
    "print(f\"Unique tissues ({len(cell_metadata_b_cell['tissue'].unique())}):\", cell_metadata_b_cell[\"tissue\"].unique())"
   ]
  }
 ],
 "metadata": {
  "kernelspec": {
   "display_name": "Python 3 (ipykernel)",
   "language": "python",
   "name": "python3"
  },
  "language_info": {
   "codemirror_mode": {
    "name": "ipython",
    "version": 3
   },
   "file_extension": ".py",
   "mimetype": "text/x-python",
   "name": "python",
   "nbconvert_exporter": "python",
   "pygments_lexer": "ipython3",
   "version": "3.11.11"
  }
 },
 "nbformat": 4,
 "nbformat_minor": 5
}
